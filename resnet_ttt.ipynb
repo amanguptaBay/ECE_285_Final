{
 "cells": [
  {
   "cell_type": "code",
   "execution_count": 1,
   "metadata": {},
   "outputs": [],
   "source": [
    "import torch\n",
    "import torchvision\n",
    "import os\n",
    "import numpy as np\n",
    "import matplotlib.pyplot as plt"
   ]
  },
  {
   "cell_type": "code",
   "execution_count": 2,
   "metadata": {},
   "outputs": [
    {
     "data": {
      "text/plain": [
       "True"
      ]
     },
     "execution_count": 2,
     "metadata": {},
     "output_type": "execute_result"
    }
   ],
   "source": [
    "torch.cuda.is_available()"
   ]
  },
  {
   "cell_type": "code",
   "execution_count": 3,
   "metadata": {},
   "outputs": [
    {
     "name": "stdout",
     "output_type": "stream",
     "text": [
      "using device: cuda\n"
     ]
    }
   ],
   "source": [
    "USE_GPU = True\n",
    "num_class = 100\n",
    "dtype = torch.float32 # we will be using float throughout this tutorial\n",
    "device = torch.device(\"cpu\")\n",
    "try:\n",
    "    if USE_GPU and torch.cuda.is_available():\n",
    "        device = torch.device('cuda')\n",
    "    elif torch.backends.mps.is_available():\n",
    "        device = torch.device(\"mps\")\n",
    "    else:\n",
    "        device = torch.device('cpu')\n",
    "except:\n",
    "    if USE_GPU and torch.cuda.is_available():\n",
    "        device = torch.device('cuda')\n",
    "    else:\n",
    "        device = torch.device('cpu')\n",
    "\n",
    "# Constant to control how frequently we print train loss\n",
    "print_every = 100\n",
    "print('using device:', device)"
   ]
  },
  {
   "cell_type": "code",
   "execution_count": 4,
   "metadata": {},
   "outputs": [],
   "source": [
    "def plotImage(image):\n",
    "    return plt.imshow(image.T)"
   ]
  },
  {
   "cell_type": "code",
   "execution_count": 5,
   "metadata": {},
   "outputs": [],
   "source": [
    "BASE = \"lung_colon_image_set/\""
   ]
  },
  {
   "cell_type": "code",
   "execution_count": 6,
   "metadata": {},
   "outputs": [],
   "source": [
    "class LungColonDS(torchvision.datasets.DatasetFolder):\n",
    "    def find_classes(self, directory: str):\n",
    "        classes = [\"colon_image_sets/colon_aca\",\"colon_image_sets/colon_n\",\"lung_image_sets/lung_aca\",\"lung_image_sets/lung_n\",\"lung_image_sets/lung_scc\"]\n",
    "        return classes, {val:ind for ind, val in enumerate(classes)}"
   ]
  },
  {
   "cell_type": "code",
   "execution_count": 7,
   "metadata": {},
   "outputs": [],
   "source": [
    "lung_colon_dataset = LungColonDS(BASE,torchvision.io.read_image, extensions = tuple([\".jpeg\"]))"
   ]
  },
  {
   "cell_type": "markdown",
   "metadata": {},
   "source": [
    "# Making Dataloader\n",
    "Dataloaders is how we will present the data to the trainer, so we need to create this object. In the future, these can be adjusted to handle any kind of new distribution we want to make"
   ]
  },
  {
   "cell_type": "code",
   "execution_count": 8,
   "metadata": {},
   "outputs": [],
   "source": [
    "from torch.utils.data import DataLoader\n",
    "\n",
    "train_count = int(0.7*len(lung_colon_dataset))\n",
    "valid_count = len(lung_colon_dataset) - train_count\n",
    "train_dataset, valid_dataset = torch.utils.data.random_split(lung_colon_dataset, [train_count, valid_count])\n",
    "\n",
    "train_dataloader = DataLoader(train_dataset, batch_size=64, shuffle=True)\n",
    "test_dataloader = DataLoader(valid_dataset, batch_size=64, shuffle=True)"
   ]
  },
  {
   "cell_type": "code",
   "execution_count": 9,
   "metadata": {},
   "outputs": [],
   "source": [
    "imgs, labels = next(iter(train_dataloader))"
   ]
  },
  {
   "cell_type": "code",
   "execution_count": 10,
   "metadata": {},
   "outputs": [
    {
     "data": {
      "text/plain": [
       "torch.Size([64])"
      ]
     },
     "execution_count": 10,
     "metadata": {},
     "output_type": "execute_result"
    }
   ],
   "source": [
    "labels.shape"
   ]
  },
  {
   "cell_type": "code",
   "execution_count": 11,
   "metadata": {},
   "outputs": [
    {
     "data": {
      "text/plain": [
       "torch.Size([3, 768, 768])"
      ]
     },
     "execution_count": 11,
     "metadata": {},
     "output_type": "execute_result"
    }
   ],
   "source": [
    "imgs[0].shape"
   ]
  },
  {
   "cell_type": "markdown",
   "metadata": {},
   "source": [
    "# Training Resnet With Rotated Images"
   ]
  },
  {
   "cell_type": "code",
   "execution_count": 12,
   "metadata": {},
   "outputs": [],
   "source": [
    "import torch\n",
    "import torchvision\n",
    "import os\n",
    "import numpy as np\n",
    "import matplotlib.pyplot as plt"
   ]
  },
  {
   "cell_type": "code",
   "execution_count": 13,
   "metadata": {},
   "outputs": [],
   "source": [
    "BASE = \"lung_colon_image_set/\""
   ]
  },
  {
   "cell_type": "code",
   "execution_count": 14,
   "metadata": {},
   "outputs": [],
   "source": [
    "class LungColonDS(torchvision.datasets.DatasetFolder):\n",
    "    def find_classes(self, directory: str):\n",
    "        classes = [\"colon_image_sets/colon_aca\",\"colon_image_sets/colon_n\",\"lung_image_sets/lung_aca\",\"lung_image_sets/lung_n\",\"lung_image_sets/lung_scc\"]\n",
    "        return classes, {val:ind for ind, val in enumerate(classes)}"
   ]
  },
  {
   "cell_type": "code",
   "execution_count": 15,
   "metadata": {},
   "outputs": [],
   "source": [
    "lung_colon_dataset = LungColonDS(BASE,torchvision.io.read_image, extensions = (\".jpeg\",))\n",
    "import RotatedDataset\n",
    "lung_colon_rotated_dataset = RotatedDataset.RotatedDataset(lung_colon_dataset, use_both_labels = True)"
   ]
  },
  {
   "cell_type": "code",
   "execution_count": 16,
   "metadata": {},
   "outputs": [
    {
     "data": {
      "text/plain": [
       "['colon_image_sets/colon_aca',\n",
       " 'colon_image_sets/colon_n',\n",
       " 'lung_image_sets/lung_aca',\n",
       " 'lung_image_sets/lung_n',\n",
       " 'lung_image_sets/lung_scc']"
      ]
     },
     "execution_count": 16,
     "metadata": {},
     "output_type": "execute_result"
    }
   ],
   "source": [
    "lung_colon_dataset.classes"
   ]
  },
  {
   "cell_type": "code",
   "execution_count": 17,
   "metadata": {},
   "outputs": [],
   "source": [
    "train_count = int(0.7*len(lung_colon_rotated_dataset))\n",
    "valid_count = len(lung_colon_rotated_dataset) - train_count\n",
    "train_dataset, valid_dataset = torch.utils.data.random_split(lung_colon_rotated_dataset, [train_count, valid_count])"
   ]
  },
  {
   "cell_type": "code",
   "execution_count": 18,
   "metadata": {},
   "outputs": [],
   "source": [
    "from torch.utils.data import DataLoader\n",
    "\n",
    "train_dataloader = DataLoader(train_dataset, batch_size=64, shuffle=True)\n",
    "test_dataloader = DataLoader(valid_dataset, batch_size=64, shuffle=True)"
   ]
  },
  {
   "cell_type": "code",
   "execution_count": 19,
   "metadata": {},
   "outputs": [],
   "source": [
    "import resnet\n",
    "import torch.nn as nn\n",
    "import torch.optim as optim\n",
    "import torch.nn.functional as F"
   ]
  },
  {
   "cell_type": "code",
   "execution_count": 20,
   "metadata": {},
   "outputs": [],
   "source": [
    "learning_rate = 2.5e-4\n",
    "model = resnet.ResNet.TTT_Implementation(5,4,True)\n",
    "optimizer = optim.Adam(model.parameters(), lr=learning_rate)"
   ]
  },
  {
   "cell_type": "code",
   "execution_count": null,
   "metadata": {},
   "outputs": [],
   "source": []
  },
  {
   "cell_type": "code",
   "execution_count": 27,
   "metadata": {},
   "outputs": [],
   "source": [
    "def check_accuracy_TTT(loader, model):\n",
    "    #Only check accuracy of main task\n",
    "    num_correct = 0\n",
    "    num_samples = 0\n",
    "    model.eval()  # set model to evaluation mode\n",
    "    with torch.no_grad():\n",
    "        for x, y in loader:\n",
    "            x = x.to(device=device, dtype=dtype)  # move to device, e.g. GPU\n",
    "            y = y[0]\n",
    "            y = y.to(device=device, dtype=torch.long)\n",
    "            scores = model(x)[0]\n",
    "            _, preds = scores.max(1)\n",
    "            num_correct += (preds == y).sum()\n",
    "            num_samples += preds.size(0)\n",
    "        acc = float(num_correct) / num_samples if float(num_correct) != 0 else 0\n",
    "        print('Got %d / %d correct (%.2f)' % (num_correct, num_samples, 100 * acc))\n",
    "    return acc\n",
    "\n",
    "def trainTTT(model, optimizer, epochs=1):\n",
    "    \"\"\"\n",
    "    Train a TTT model.\n",
    "    \n",
    "    Inputs:\n",
    "    - model: A PyTorch Module giving the model to train.\n",
    "    - optimizer: An Optimizer object we will use to train the model\n",
    "    - epochs: (Optional) A Python integer giving the number of epochs to train for\n",
    "    \n",
    "    Returns: The accuracy of the model\n",
    "    \"\"\"\n",
    "    model = model.to(device=device)  # move the model parameters to CPU/GPU\n",
    "    for e in range(epochs):\n",
    "        for t, (x, y) in enumerate(train_dataloader):\n",
    "            model.train()  # put model to training mode\n",
    "            x = x.to(device=device, dtype=dtype)  # move to device, e.g. GPU\n",
    "            y0,y1 = y\n",
    "            y0 = y0.to(device=device, dtype=torch.long)\n",
    "            y1 = y1.to(device=device, dtype=torch.long)\n",
    "\n",
    "            scores = model(x)\n",
    "            loss = F.cross_entropy(scores[0], y0) + F.cross_entropy(scores[1], y1)\n",
    "\n",
    "            # Zero out all of the gradients for the variables which the optimizer\n",
    "            # will update.\n",
    "            optimizer.zero_grad()\n",
    "\n",
    "            # This is the backwards pass: compute the gradient of the loss with\n",
    "            # respect to each  parameter of the model.\n",
    "            loss.backward()\n",
    "\n",
    "            # Actually update the parameters of the model using the gradients\n",
    "            # computed by the backwards pass.\n",
    "            optimizer.step()\n",
    "\n",
    "            if (t + 1) % print_every == 0:\n",
    "                print('Epoch %d, Iteration %d, loss = %.4f' % (e, t + 1, loss.item()))\n",
    "                check_accuracy_TTT(test_dataloader, model)\n",
    "                print()\n",
    "            if t == 0:\n",
    "                print(f\"Passed first iteration! Loss: {loss.item()}\")\n",
    "    return check_accuracy_TTT(test_dataloader, model)"
   ]
  },
  {
   "cell_type": "code",
   "execution_count": 28,
   "metadata": {},
   "outputs": [
    {
     "data": {
      "text/plain": [
       "<torch.utils.data.dataloader.DataLoader at 0x7f06503d7a90>"
      ]
     },
     "execution_count": 28,
     "metadata": {},
     "output_type": "execute_result"
    }
   ],
   "source": [
    "train_dataloader"
   ]
  },
  {
   "cell_type": "code",
   "execution_count": 29,
   "metadata": {
    "scrolled": true
   },
   "outputs": [
    {
     "name": "stdout",
     "output_type": "stream",
     "text": [
      "Passed first iteration! Loss: 1.7062921524047852\n",
      "Epoch 0, Iteration 100, loss = 1.7001\n",
      "Got 5554 / 7500 correct (74.05)\n",
      "\n",
      "Epoch 0, Iteration 200, loss = 1.6517\n",
      "Got 6693 / 7500 correct (89.24)\n",
      "\n",
      "Passed first iteration! Loss: 1.7489622831344604\n",
      "Epoch 1, Iteration 100, loss = 1.5911\n",
      "Got 5718 / 7500 correct (76.24)\n",
      "\n",
      "Epoch 1, Iteration 200, loss = 1.5455\n",
      "Got 5684 / 7500 correct (75.79)\n",
      "\n",
      "Passed first iteration! Loss: 1.529234766960144\n",
      "Epoch 2, Iteration 100, loss = 1.6387\n",
      "Got 6243 / 7500 correct (83.24)\n",
      "\n",
      "Epoch 2, Iteration 200, loss = 1.5964\n",
      "Got 5688 / 7500 correct (75.84)\n",
      "\n",
      "Passed first iteration! Loss: 1.4618902206420898\n",
      "Epoch 3, Iteration 100, loss = 1.5363\n",
      "Got 6177 / 7500 correct (82.36)\n",
      "\n",
      "Epoch 3, Iteration 200, loss = 1.6065\n",
      "Got 6456 / 7500 correct (86.08)\n",
      "\n",
      "Passed first iteration! Loss: 1.4556032419204712\n",
      "Epoch 4, Iteration 100, loss = 1.5090\n",
      "Got 5731 / 7500 correct (76.41)\n",
      "\n",
      "Epoch 4, Iteration 200, loss = 1.5874\n",
      "Got 3114 / 7500 correct (41.52)\n",
      "\n",
      "Passed first iteration! Loss: 1.3571217060089111\n",
      "Epoch 5, Iteration 100, loss = 1.4574\n",
      "Got 5855 / 7500 correct (78.07)\n",
      "\n",
      "Epoch 5, Iteration 200, loss = 1.7090\n",
      "Got 4270 / 7500 correct (56.93)\n",
      "\n",
      "Passed first iteration! Loss: 1.3533148765563965\n",
      "Epoch 6, Iteration 100, loss = 1.4578\n",
      "Got 6757 / 7500 correct (90.09)\n",
      "\n",
      "Epoch 6, Iteration 200, loss = 1.3224\n",
      "Got 5724 / 7500 correct (76.32)\n",
      "\n",
      "Passed first iteration! Loss: 1.2961441278457642\n",
      "Epoch 7, Iteration 100, loss = 1.4101\n",
      "Got 5716 / 7500 correct (76.21)\n",
      "\n",
      "Epoch 7, Iteration 200, loss = 1.2733\n",
      "Got 6102 / 7500 correct (81.36)\n",
      "\n",
      "Passed first iteration! Loss: 1.3614020347595215\n",
      "Epoch 8, Iteration 100, loss = 1.2816\n",
      "Got 6692 / 7500 correct (89.23)\n",
      "\n",
      "Epoch 8, Iteration 200, loss = 1.2755\n",
      "Got 5287 / 7500 correct (70.49)\n",
      "\n",
      "Passed first iteration! Loss: 1.173467993736267\n",
      "Epoch 9, Iteration 100, loss = 1.2591\n",
      "Got 5932 / 7500 correct (79.09)\n",
      "\n",
      "Epoch 9, Iteration 200, loss = 1.3013\n",
      "Got 5881 / 7500 correct (78.41)\n",
      "\n",
      "Got 5705 / 7500 correct (76.07)\n"
     ]
    }
   ],
   "source": [
    "print_every = 100\n",
    "trainTTT(model, optimizer, epochs=10)\n",
    "print_every = 100"
   ]
  },
  {
   "cell_type": "code",
   "execution_count": null,
   "metadata": {},
   "outputs": [],
   "source": []
  }
 ],
 "metadata": {
  "kernelspec": {
   "display_name": "Python 3 (ipykernel)",
   "language": "python",
   "name": "python3"
  },
  "language_info": {
   "codemirror_mode": {
    "name": "ipython",
    "version": 3
   },
   "file_extension": ".py",
   "mimetype": "text/x-python",
   "name": "python",
   "nbconvert_exporter": "python",
   "pygments_lexer": "ipython3",
   "version": "3.9.5"
  }
 },
 "nbformat": 4,
 "nbformat_minor": 2
}
