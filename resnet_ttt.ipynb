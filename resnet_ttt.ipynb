{
 "cells": [
  {
   "cell_type": "code",
   "execution_count": 17,
   "metadata": {},
   "outputs": [],
   "source": [
    "import torch\n",
    "import torchvision\n",
    "import os\n",
    "import numpy as np\n",
    "import matplotlib.pyplot as plt"
   ]
  },
  {
   "cell_type": "code",
   "execution_count": 18,
   "metadata": {},
   "outputs": [
    {
     "data": {
      "text/plain": [
       "False"
      ]
     },
     "execution_count": 18,
     "metadata": {},
     "output_type": "execute_result"
    }
   ],
   "source": [
    "torch.cuda.is_available()"
   ]
  },
  {
   "cell_type": "code",
   "execution_count": 30,
   "metadata": {},
   "outputs": [
    {
     "name": "stdout",
     "output_type": "stream",
     "text": [
      "using device: mps\n"
     ]
    }
   ],
   "source": [
    "USE_GPU = True\n",
    "num_class = 100\n",
    "dtype = torch.float32 # we will be using float throughout this tutorial\n",
    "device = torch.device(\"cpu\")\n",
    "try:\n",
    "    if USE_GPU and torch.cuda.is_available():\n",
    "        device = torch.device('cuda')\n",
    "    elif torch.backends.mps.is_available():\n",
    "        device = torch.device(\"mps\")\n",
    "    else:\n",
    "        device = torch.device('cpu')\n",
    "except:\n",
    "    if USE_GPU and torch.cuda.is_available():\n",
    "        device = torch.device('cuda')\n",
    "    else:\n",
    "        device = torch.device('cpu')\n",
    "\n",
    "# Constant to control how frequently we print train loss\n",
    "print_every = 100\n",
    "print('using device:', device)"
   ]
  },
  {
   "cell_type": "code",
   "execution_count": 31,
   "metadata": {},
   "outputs": [],
   "source": [
    "def plotImage(image):\n",
    "    return plt.imshow(image.T)"
   ]
  },
  {
   "cell_type": "code",
   "execution_count": 32,
   "metadata": {},
   "outputs": [],
   "source": [
    "BASE = \"lung_colon_image_set/\""
   ]
  },
  {
   "cell_type": "code",
   "execution_count": 33,
   "metadata": {},
   "outputs": [],
   "source": [
    "class LungColonDS(torchvision.datasets.DatasetFolder):\n",
    "    def find_classes(self, directory: str):\n",
    "        classes = [\"colon_image_sets/colon_aca\",\"colon_image_sets/colon_n\",\"lung_image_sets/lung_aca\",\"lung_image_sets/lung_n\",\"lung_image_sets/lung_scc\"]\n",
    "        return classes, {val:ind for ind, val in enumerate(classes)}"
   ]
  },
  {
   "cell_type": "code",
   "execution_count": 34,
   "metadata": {},
   "outputs": [],
   "source": [
    "lung_colon_dataset = LungColonDS(BASE,torchvision.io.read_image, extensions = tuple([\".jpeg\"]))"
   ]
  },
  {
   "attachments": {},
   "cell_type": "markdown",
   "metadata": {},
   "source": [
    "# Making Dataloader\n",
    "Dataloaders is how we will present the data to the trainer, so we need to create this object. In the future, these can be adjusted to handle any kind of new distribution we want to make"
   ]
  },
  {
   "cell_type": "code",
   "execution_count": 35,
   "metadata": {},
   "outputs": [],
   "source": [
    "from torch.utils.data import DataLoader\n",
    "\n",
    "train_count = int(0.7*len(lung_colon_dataset))\n",
    "valid_count = len(lung_colon_dataset) - train_count\n",
    "train_dataset, valid_dataset = torch.utils.data.random_split(lung_colon_dataset, [train_count, valid_count])\n",
    "\n",
    "train_dataloader = DataLoader(train_dataset, batch_size=64, shuffle=True)\n",
    "test_dataloader = DataLoader(valid_dataset, batch_size=64, shuffle=True)"
   ]
  },
  {
   "cell_type": "code",
   "execution_count": 36,
   "metadata": {},
   "outputs": [],
   "source": [
    "imgs, labels = next(iter(train_dataloader))"
   ]
  },
  {
   "cell_type": "code",
   "execution_count": 37,
   "metadata": {},
   "outputs": [
    {
     "data": {
      "text/plain": [
       "torch.Size([64])"
      ]
     },
     "execution_count": 37,
     "metadata": {},
     "output_type": "execute_result"
    }
   ],
   "source": [
    "labels.shape"
   ]
  },
  {
   "cell_type": "code",
   "execution_count": 38,
   "metadata": {},
   "outputs": [
    {
     "data": {
      "text/plain": [
       "torch.Size([3, 768, 768])"
      ]
     },
     "execution_count": 38,
     "metadata": {},
     "output_type": "execute_result"
    }
   ],
   "source": [
    "imgs[0].shape"
   ]
  },
  {
   "attachments": {},
   "cell_type": "markdown",
   "metadata": {},
   "source": [
    "# Training Resnet With Rotated Images"
   ]
  },
  {
   "cell_type": "code",
   "execution_count": 39,
   "metadata": {},
   "outputs": [],
   "source": [
    "import torch\n",
    "import torchvision\n",
    "import os\n",
    "import numpy as np\n",
    "import matplotlib.pyplot as plt"
   ]
  },
  {
   "cell_type": "code",
   "execution_count": 40,
   "metadata": {},
   "outputs": [],
   "source": [
    "BASE = \"lung_colon_image_set/\""
   ]
  },
  {
   "cell_type": "code",
   "execution_count": 41,
   "metadata": {},
   "outputs": [],
   "source": [
    "class LungColonDS(torchvision.datasets.DatasetFolder):\n",
    "    def find_classes(self, directory: str):\n",
    "        classes = [\"colon_image_sets/colon_aca\",\"colon_image_sets/colon_n\",\"lung_image_sets/lung_aca\",\"lung_image_sets/lung_n\",\"lung_image_sets/lung_scc\"]\n",
    "        return classes, {val:ind for ind, val in enumerate(classes)}"
   ]
  },
  {
   "cell_type": "code",
   "execution_count": 42,
   "metadata": {},
   "outputs": [],
   "source": [
    "lung_colon_dataset = LungColonDS(BASE,torchvision.io.read_image, extensions = (\".jpeg\",))\n",
    "import RotatedDataset\n",
    "lung_colon_rotated_dataset = RotatedDataset.RotatedDataset(lung_colon_dataset, use_both_labels = True)"
   ]
  },
  {
   "cell_type": "code",
   "execution_count": 43,
   "metadata": {},
   "outputs": [
    {
     "data": {
      "text/plain": [
       "['colon_image_sets/colon_aca',\n",
       " 'colon_image_sets/colon_n',\n",
       " 'lung_image_sets/lung_aca',\n",
       " 'lung_image_sets/lung_n',\n",
       " 'lung_image_sets/lung_scc']"
      ]
     },
     "execution_count": 43,
     "metadata": {},
     "output_type": "execute_result"
    }
   ],
   "source": [
    "lung_colon_dataset.classes"
   ]
  },
  {
   "cell_type": "code",
   "execution_count": 44,
   "metadata": {},
   "outputs": [],
   "source": [
    "train_count = int(0.7*len(lung_colon_rotated_dataset))\n",
    "valid_count = len(lung_colon_rotated_dataset) - train_count\n",
    "train_dataset, valid_dataset = torch.utils.data.random_split(lung_colon_rotated_dataset, [train_count, valid_count])"
   ]
  },
  {
   "cell_type": "code",
   "execution_count": 45,
   "metadata": {},
   "outputs": [],
   "source": [
    "from torch.utils.data import DataLoader\n",
    "\n",
    "train_dataloader = DataLoader(train_dataset, batch_size=64, shuffle=True)\n",
    "test_dataloader = DataLoader(valid_dataset, batch_size=64, shuffle=True)"
   ]
  },
  {
   "cell_type": "code",
   "execution_count": 46,
   "metadata": {},
   "outputs": [],
   "source": [
    "import resnet\n",
    "import torch.nn as nn\n",
    "import torch.optim as optim\n",
    "import torch.nn.functional as F"
   ]
  },
  {
   "cell_type": "code",
   "execution_count": 47,
   "metadata": {},
   "outputs": [],
   "source": [
    "learning_rate = 2.5e-4\n",
    "model = resnet.ResNet.TTT_Implementation(5,4,True)\n",
    "optimizer = optim.Adam(model.parameters(), lr=learning_rate)"
   ]
  },
  {
   "cell_type": "code",
   "execution_count": 51,
   "metadata": {},
   "outputs": [
    {
     "ename": "TypeError",
     "evalue": "__init__() missing 3 required positional arguments: 'F', 'A', and 'B'",
     "output_type": "error",
     "traceback": [
      "\u001b[0;31m---------------------------------------------------------------------------\u001b[0m",
      "\u001b[0;31mTypeError\u001b[0m                                 Traceback (most recent call last)",
      "Cell \u001b[0;32mIn[51], line 2\u001b[0m\n\u001b[1;32m      1\u001b[0m \u001b[39mimport\u001b[39;00m \u001b[39mttt\u001b[39;00m\n\u001b[0;32m----> 2\u001b[0m ttt\u001b[39m.\u001b[39;49mTTT_System()\n",
      "\u001b[0;31mTypeError\u001b[0m: __init__() missing 3 required positional arguments: 'F', 'A', and 'B'"
     ]
    }
   ],
   "source": []
  },
  {
   "cell_type": "code",
   "execution_count": 37,
   "metadata": {},
   "outputs": [],
   "source": [
    "def check_accuracy_TTT(loader, model):\n",
    "    #Only check accuracy of main task\n",
    "    num_correct = 0\n",
    "    num_samples = 0\n",
    "    model.eval()  # set model to evaluation mode\n",
    "    with torch.no_grad():\n",
    "        for x, y in loader:\n",
    "            x = x.to(device=device, dtype=dtype)  # move to device, e.g. GPU\n",
    "            y = y[0]\n",
    "            y = y.to(device=device, dtype=torch.long)\n",
    "            scores = model(x)[0]\n",
    "            _, preds = scores.max(1)\n",
    "            num_correct += (preds == y).sum()\n",
    "            num_samples += preds.size(0)\n",
    "        acc = float(num_correct) / num_samples if float(num_correct) != 0 else 0\n",
    "        print('Got %d / %d correct (%.2f)' % (num_correct, num_samples, 100 * acc))\n",
    "    return acc\n",
    "\n",
    "def trainTTT(model, optimizer, epochs=1):\n",
    "    \"\"\"\n",
    "    Train a TTT model.\n",
    "    \n",
    "    Inputs:\n",
    "    - model: A PyTorch Module giving the model to train.\n",
    "    - optimizer: An Optimizer object we will use to train the model\n",
    "    - epochs: (Optional) A Python integer giving the number of epochs to train for\n",
    "    \n",
    "    Returns: The accuracy of the model\n",
    "    \"\"\"\n",
    "    model = model.to(device=device)  # move the model parameters to CPU/GPU\n",
    "    for e in range(epochs):\n",
    "        for t, (x, y) in enumerate(train_dataloader):\n",
    "            model.train()  # put model to training mode\n",
    "            x = x.to(device=device, dtype=dtype)  # move to device, e.g. GPU\n",
    "            y0,y1 = y\n",
    "            y0 = y0.to(device=device, dtype=torch.long)\n",
    "            y1 = y1.to(device=device, dtype=torch.long)\n",
    "\n",
    "            scores = model(x)\n",
    "            loss = F.cross_entropy(scores[0], y0) + F.cross_entropy(scores[1], y1)\n",
    "\n",
    "            # Zero out all of the gradients for the variables which the optimizer\n",
    "            # will update.\n",
    "            optimizer.zero_grad()\n",
    "\n",
    "            # This is the backwards pass: compute the gradient of the loss with\n",
    "            # respect to each  parameter of the model.\n",
    "            loss.backward()\n",
    "\n",
    "            # Actually update the parameters of the model using the gradients\n",
    "            # computed by the backwards pass.\n",
    "            optimizer.step()\n",
    "\n",
    "            if (t + 1) % print_every == 0:\n",
    "                print('Epoch %d, Iteration %d, loss = %.4f' % (e, t + 1, loss.item()))\n",
    "                check_accuracy_part34(test_dataloader, model)\n",
    "                print()\n",
    "    return check_accuracy_TTT(test_dataloader, model)"
   ]
  },
  {
   "cell_type": "code",
   "execution_count": 38,
   "metadata": {},
   "outputs": [
    {
     "data": {
      "text/plain": [
       "<torch.utils.data.dataloader.DataLoader at 0x7f23b7e555e0>"
      ]
     },
     "execution_count": 38,
     "metadata": {},
     "output_type": "execute_result"
    }
   ],
   "source": [
    "train_dataloader"
   ]
  },
  {
   "cell_type": "code",
   "execution_count": 39,
   "metadata": {
    "scrolled": true
   },
   "outputs": [
    {
     "name": "stdout",
     "output_type": "stream",
     "text": [
      "Epoch 0, Iteration 100, loss = 0.4048\n",
      "Got 6457 / 7500 correct (86.09)\n",
      "\n",
      "Epoch 0, Iteration 200, loss = 0.3017\n",
      "Got 4587 / 7500 correct (61.16)\n",
      "\n",
      "Epoch 1, Iteration 100, loss = 0.4193\n",
      "Got 4644 / 7500 correct (61.92)\n",
      "\n",
      "Epoch 1, Iteration 200, loss = 0.3993\n",
      "Got 5741 / 7500 correct (76.55)\n",
      "\n",
      "Epoch 2, Iteration 100, loss = 0.3307\n",
      "Got 5178 / 7500 correct (69.04)\n",
      "\n",
      "Epoch 2, Iteration 200, loss = 0.2225\n",
      "Got 5908 / 7500 correct (78.77)\n",
      "\n",
      "Epoch 3, Iteration 100, loss = 0.1598\n",
      "Got 5618 / 7500 correct (74.91)\n",
      "\n",
      "Epoch 3, Iteration 200, loss = 0.2475\n",
      "Got 5810 / 7500 correct (77.47)\n",
      "\n",
      "Epoch 4, Iteration 100, loss = 0.1837\n",
      "Got 4425 / 7500 correct (59.00)\n",
      "\n",
      "Epoch 4, Iteration 200, loss = 0.1140\n",
      "Got 4605 / 7500 correct (61.40)\n",
      "\n",
      "Epoch 5, Iteration 100, loss = 0.1617\n",
      "Got 5994 / 7500 correct (79.92)\n",
      "\n",
      "Epoch 5, Iteration 200, loss = 0.2732\n",
      "Got 6871 / 7500 correct (91.61)\n",
      "\n",
      "Epoch 6, Iteration 100, loss = 0.1792\n",
      "Got 5832 / 7500 correct (77.76)\n",
      "\n",
      "Epoch 6, Iteration 200, loss = 0.1539\n",
      "Got 6192 / 7500 correct (82.56)\n",
      "\n",
      "Epoch 7, Iteration 100, loss = 0.3018\n",
      "Got 7022 / 7500 correct (93.63)\n",
      "\n",
      "Epoch 7, Iteration 200, loss = 0.3626\n",
      "Got 6139 / 7500 correct (81.85)\n",
      "\n",
      "Epoch 8, Iteration 100, loss = 0.0752\n",
      "Got 6162 / 7500 correct (82.16)\n",
      "\n",
      "Epoch 8, Iteration 200, loss = 0.1360\n",
      "Got 5932 / 7500 correct (79.09)\n",
      "\n",
      "Epoch 9, Iteration 100, loss = 0.0517\n",
      "Got 5581 / 7500 correct (74.41)\n",
      "\n",
      "Epoch 9, Iteration 200, loss = 0.0840\n",
      "Got 5385 / 7500 correct (71.80)\n",
      "\n",
      "Got 6412 / 7500 correct (85.49)\n"
     ]
    }
   ],
   "source": [
    "print_every = 100\n",
    "train_part34(model, optimizer, epochs=10)\n",
    "print_every = 100"
   ]
  },
  {
   "cell_type": "code",
   "execution_count": null,
   "metadata": {},
   "outputs": [],
   "source": []
  }
 ],
 "metadata": {
  "kernelspec": {
   "display_name": "Python 3 (ipykernel)",
   "language": "python",
   "name": "python3"
  },
  "language_info": {
   "codemirror_mode": {
    "name": "ipython",
    "version": 3
   },
   "file_extension": ".py",
   "mimetype": "text/x-python",
   "name": "python",
   "nbconvert_exporter": "python",
   "pygments_lexer": "ipython3",
   "version": "3.9.5"
  }
 },
 "nbformat": 4,
 "nbformat_minor": 2
}
